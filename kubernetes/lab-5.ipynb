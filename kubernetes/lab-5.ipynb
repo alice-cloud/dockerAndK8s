{
 "cells": [
  {
   "cell_type": "markdown",
   "metadata": {},
   "source": [
    "## kubectl\n",
    "\n",
    "### 获得集群信息\n",
    "```\n",
    "kubectl cluster-info\n",
    "```"
   ]
  },
  {
   "cell_type": "code",
   "execution_count": 1,
   "metadata": {},
   "outputs": [
    {
     "name": "stdout",
     "output_type": "stream",
     "text": [
      "\u001b[0;32mKubernetes master\u001b[0m is running at \u001b[0;33mhttps://192.168.99.100:8443\u001b[0m\r\n",
      "\u001b[0;32mCoreDNS\u001b[0m is running at \u001b[0;33mhttps://192.168.99.100:8443/api/v1/namespaces/kube-system/services/kube-dns:dns/proxy\u001b[0m\r\n",
      "\r\n",
      "To further debug and diagnose cluster problems, use 'kubectl cluster-info dump'.\r\n"
     ]
    }
   ],
   "source": [
    "!kubectl cluster-info"
   ]
  },
  {
   "cell_type": "markdown",
   "metadata": {},
   "source": [
    "### 获得节点信息\n",
    "```\n",
    "kubectl get nods\n",
    "```"
   ]
  },
  {
   "cell_type": "code",
   "execution_count": 2,
   "metadata": {},
   "outputs": [
    {
     "name": "stdout",
     "output_type": "stream",
     "text": [
      "NAME       STATUS   ROLES    AGE   VERSION\r\n",
      "minikube   Ready    master   25d   v1.10.0\r\n"
     ]
    }
   ],
   "source": [
    "!kubectl get nodes"
   ]
  },
  {
   "cell_type": "markdown",
   "metadata": {},
   "source": [
    "## pods\n",
    "\n",
    "\n",
    "### 显示pods列表\n",
    "```\n",
    "kubectl get pods\n",
    "```\n",
    "#### 显示某命名空间下pods列表\n",
    "```\n",
    "kubectl get pods --namespace=kube-system\n",
    "```\n",
    "#### 显示所有pods列表\n",
    "```\n",
    "kubectl get pods --all-namespaces\n",
    "```"
   ]
  },
  {
   "cell_type": "code",
   "execution_count": 3,
   "metadata": {},
   "outputs": [
    {
     "name": "stdout",
     "output_type": "stream",
     "text": [
      "No resources found.\r\n"
     ]
    }
   ],
   "source": [
    "!kubectl get pods"
   ]
  },
  {
   "cell_type": "code",
   "execution_count": 4,
   "metadata": {},
   "outputs": [
    {
     "name": "stdout",
     "output_type": "stream",
     "text": [
      "NAMESPACE     NAME                                    READY   STATUS    RESTARTS   AGE\r\n",
      "kube-system   coredns-c4cffd6dc-9f48b                 1/1     Running   1          25d\r\n",
      "kube-system   etcd-minikube                           1/1     Running   0          4h\r\n",
      "kube-system   kube-addon-manager-minikube             1/1     Running   1          25d\r\n",
      "kube-system   kube-apiserver-minikube                 1/1     Running   0          4h\r\n",
      "kube-system   kube-controller-manager-minikube        1/1     Running   0          4h\r\n",
      "kube-system   kube-dns-86f4d74b45-96cnw               3/3     Running   4          25d\r\n",
      "kube-system   kube-proxy-8bfx7                        1/1     Running   0          4h\r\n",
      "kube-system   kube-scheduler-minikube                 1/1     Running   1          25d\r\n",
      "kube-system   kubernetes-dashboard-6f4cfc5d87-9nrw4   1/1     Running   4          25d\r\n",
      "kube-system   storage-provisioner                     1/1     Running   4          25d\r\n"
     ]
    }
   ],
   "source": [
    "!kubectl get pods --all-namespaces"
   ]
  },
  {
   "cell_type": "code",
   "execution_count": 5,
   "metadata": {},
   "outputs": [
    {
     "name": "stdout",
     "output_type": "stream",
     "text": [
      "NAME                                    READY   STATUS    RESTARTS   AGE\r\n",
      "coredns-c4cffd6dc-9f48b                 1/1     Running   1          25d\r\n",
      "etcd-minikube                           1/1     Running   0          4h\r\n",
      "kube-addon-manager-minikube             1/1     Running   1          25d\r\n",
      "kube-apiserver-minikube                 1/1     Running   0          4h\r\n",
      "kube-controller-manager-minikube        1/1     Running   0          4h\r\n",
      "kube-dns-86f4d74b45-96cnw               3/3     Running   4          25d\r\n",
      "kube-proxy-8bfx7                        1/1     Running   0          4h\r\n",
      "kube-scheduler-minikube                 1/1     Running   1          25d\r\n",
      "kubernetes-dashboard-6f4cfc5d87-9nrw4   1/1     Running   4          25d\r\n",
      "storage-provisioner                     1/1     Running   4          25d\r\n"
     ]
    }
   ],
   "source": [
    "!kubectl get pods --namespace=kube-system"
   ]
  },
  {
   "cell_type": "code",
   "execution_count": 8,
   "metadata": {},
   "outputs": [
    {
     "name": "stdout",
     "output_type": "stream",
     "text": [
      "REPOSITORY          TAG                 IMAGE ID            CREATED             SIZE\r\n",
      "lab4_frontend       latest              5ef2d3074b41        10 hours ago        23.5MB\r\n",
      "node-base           latest              307ed92ad780        12 hours ago        473MB\r\n",
      "node                latest              c82dc5e6186f        14 hours ago        895MB\r\n",
      "lab4_frontend-dev   latest              4ba93e7e30b7        17 hours ago        682MB\r\n",
      "lab4_caculate       latest              6799de1e5708        18 hours ago        90MB\r\n",
      "lab4_notification   latest              9f2dc3f5261a        18 hours ago        90MB\r\n",
      "lab4_backend        latest              1bff1ddc05a5        19 hours ago        90.4MB\r\n",
      "tornado-base        latest              3fda5c87356e        24 hours ago        90MB\r\n",
      "lab3_web            latest              a5fef1fc1cde        27 hours ago        90.4MB\r\n",
      "xxx                 latest              58b13f7797f6        27 hours ago        90.4MB\r\n",
      "flask-base          latest              df02fb336c99        2 days ago          90.4MB\r\n",
      "postgres            latest              f9b577fb1ed6        5 days ago          311MB\r\n",
      "node                10.14-alpine        f4c41baab988        5 days ago          70.3MB\r\n",
      "nginx               1.15.7-alpine       63356c558c79        6 days ago          17.8MB\r\n",
      "consul              latest              10a92470333b        2 weeks ago         105MB\r\n",
      "nginx               latest              e81eb098537d        2 weeks ago         109MB\r\n",
      "redis               latest              c188f257942c        2 weeks ago         94.9MB\r\n",
      "python              3.7.1-alpine        aadc3feb2b19        2 weeks ago         78.2MB\r\n",
      "redis               alpine              28d359e5d4bb        3 weeks ago         40.9MB\r\n",
      "postgres            9.6.11-alpine       ca7199e23213        3 weeks ago         38.6MB\r\n",
      "golang              1.11.2-alpine3.8    57915f96905a        4 weeks ago         310MB\r\n",
      "rabbitmq            3.7.8-alpine        b84c00eb4aee        5 weeks ago         46.8MB\r\n",
      "rabbitmq            latest              e8261c2af9fe        5 weeks ago         125MB\r\n",
      "zookeeper           latest              f336949ce7a1        5 weeks ago         148MB\r\n",
      "busybox             latest              59788edf1f3e        2 months ago        1.15MB\r\n",
      "alpine              latest              196d12cf6ab1        2 months ago        4.41MB\r\n"
     ]
    }
   ],
   "source": [
    "!docker image ls"
   ]
  },
  {
   "cell_type": "markdown",
   "metadata": {},
   "source": [
    "## Deployment\n",
    "\n",
    "### 创建Deployment 1\n",
    "```\n",
    "kubectl run -i --tty network-node --image=busybox  --image-pull-policy=IfNotPresent\n",
    "```\n",
    "\n",
    "### 在已有pod上执行命令\n",
    "```\n",
    "kubectl exec -i -t <pod-name> -- [command] <para1,> <para2,> <...>\n",
    "```"
   ]
  },
  {
   "cell_type": "code",
   "execution_count": 11,
   "metadata": {},
   "outputs": [
    {
     "name": "stdout",
     "output_type": "stream",
     "text": [
      "kubectl run --generator=deployment/apps.v1beta1 is DEPRECATED and will be removed in a future version. Use kubectl create instead.\n",
      "If you don't see a command prompt, try pressing enter.\n",
      "/ # \u001b[J^C\n",
      "/ # \n",
      "/ # "
     ]
    }
   ],
   "source": [
    "!kubectl run -i --tty network-node --image=busybox --image-pull-policy=IfNotPresent"
   ]
  },
  {
   "cell_type": "code",
   "execution_count": 17,
   "metadata": {},
   "outputs": [
    {
     "name": "stdout",
     "output_type": "stream",
     "text": [
      "NAME                            READY   STATUS    RESTARTS   AGE\r\n",
      "hello-web-66c4c9fd9f-j8fmd      1/1     Running   0          2h\r\n",
      "network-node-77f8786db9-blrpk   1/1     Running   0          2m\r\n"
     ]
    }
   ],
   "source": [
    "!kubectl get pods"
   ]
  },
  {
   "cell_type": "code",
   "execution_count": 19,
   "metadata": {},
   "outputs": [
    {
     "name": "stdout",
     "output_type": "stream",
     "text": [
      "eth0      Link encap:Ethernet  HWaddr 02:42:AC:11:00:06  \r\n",
      "          inet addr:172.17.0.6  Bcast:172.17.255.255  Mask:255.255.0.0\r\n",
      "          UP BROADCAST RUNNING MULTICAST  MTU:1500  Metric:1\r\n",
      "          RX packets:16 errors:0 dropped:0 overruns:0 frame:0\r\n",
      "          TX packets:0 errors:0 dropped:0 overruns:0 carrier:0\r\n",
      "          collisions:0 txqueuelen:0 \r\n",
      "          RX bytes:1330 (1.2 KiB)  TX bytes:0 (0.0 B)\r\n",
      "\r\n",
      "lo        Link encap:Local Loopback  \r\n",
      "          inet addr:127.0.0.1  Mask:255.0.0.0\r\n",
      "          UP LOOPBACK RUNNING  MTU:65536  Metric:1\r\n",
      "          RX packets:0 errors:0 dropped:0 overruns:0 frame:0\r\n",
      "          TX packets:0 errors:0 dropped:0 overruns:0 carrier:0\r\n",
      "          collisions:0 txqueuelen:1000 \r\n",
      "          RX bytes:0 (0.0 B)  TX bytes:0 (0.0 B)\r\n",
      "\r\n"
     ]
    }
   ],
   "source": [
    "!kubectl exec -i -t network-node-77f8786db9-blrpk -- ifconfig"
   ]
  },
  {
   "cell_type": "code",
   "execution_count": 21,
   "metadata": {},
   "outputs": [
    {
     "name": "stdout",
     "output_type": "stream",
     "text": [
      "eth0      Link encap:Ethernet  HWaddr 02:42:AC:11:00:05  \r\n",
      "          inet addr:172.17.0.5  Bcast:172.17.255.255  Mask:255.255.0.0\r\n",
      "          UP BROADCAST RUNNING MULTICAST  MTU:1500  Metric:1\r\n",
      "          RX packets:41 errors:0 dropped:0 overruns:0 frame:0\r\n",
      "          TX packets:17 errors:0 dropped:0 overruns:0 carrier:0\r\n",
      "          collisions:0 txqueuelen:0 \r\n",
      "          RX bytes:3268 (3.1 KiB)  TX bytes:1386 (1.3 KiB)\r\n",
      "\r\n",
      "lo        Link encap:Local Loopback  \r\n",
      "          inet addr:127.0.0.1  Mask:255.0.0.0\r\n",
      "          UP LOOPBACK RUNNING  MTU:65536  Metric:1\r\n",
      "          RX packets:0 errors:0 dropped:0 overruns:0 frame:0\r\n",
      "          TX packets:0 errors:0 dropped:0 overruns:0 carrier:0\r\n",
      "          collisions:0 txqueuelen:1000 \r\n",
      "          RX bytes:0 (0.0 B)  TX bytes:0 (0.0 B)\r\n",
      "\r\n"
     ]
    }
   ],
   "source": [
    "!kubectl exec -i -t hello-web-66c4c9fd9f-j8fmd ifconfig"
   ]
  },
  {
   "cell_type": "code",
   "execution_count": 23,
   "metadata": {},
   "outputs": [
    {
     "name": "stdout",
     "output_type": "stream",
     "text": [
      "PING 172.17.0.6 (172.17.0.6): 56 data bytes\n",
      "64 bytes from 172.17.0.6: seq=0 ttl=64 time=0.050 ms\n",
      "64 bytes from 172.17.0.6: seq=1 ttl=64 time=0.087 ms\n",
      "64 bytes from 172.17.0.6: seq=2 ttl=64 time=0.086 ms\n",
      "64 bytes from 172.17.0.6: seq=3 ttl=64 time=0.086 ms\n",
      "\n",
      "--- 172.17.0.6 ping statistics ---\n",
      "4 packets transmitted, 4 packets received, 0% packet loss\n",
      "round-trip min/avg/max = 0.050/0.077/0.087 ms\n"
     ]
    }
   ],
   "source": [
    "!kubectl exec -i -t hello-web-66c4c9fd9f-j8fmd -- ping 172.17.0.6 -c 4"
   ]
  },
  {
   "cell_type": "code",
   "execution_count": 24,
   "metadata": {},
   "outputs": [
    {
     "name": "stdout",
     "output_type": "stream",
     "text": [
      "Error from server (BadRequest): container 4 is not valid for pod hello-web-66c4c9fd9f-j8fmd\r\n"
     ]
    }
   ],
   "source": [
    "!kubectl exec -i -t hello-web-66c4c9fd9f-j8fmd ping 172.17.0.6 -c 4"
   ]
  },
  {
   "cell_type": "code",
   "execution_count": null,
   "metadata": {},
   "outputs": [],
   "source": []
  }
 ],
 "metadata": {
  "kernelspec": {
   "display_name": "Python 3",
   "language": "python",
   "name": "python3"
  },
  "language_info": {
   "codemirror_mode": {
    "name": "ipython",
    "version": 3
   },
   "file_extension": ".py",
   "mimetype": "text/x-python",
   "name": "python",
   "nbconvert_exporter": "python",
   "pygments_lexer": "ipython3",
   "version": "3.7.1"
  }
 },
 "nbformat": 4,
 "nbformat_minor": 2
}
