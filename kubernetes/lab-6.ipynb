{
 "cells": [
  {
   "cell_type": "markdown",
   "metadata": {},
   "source": [
    "## kubernetes模板\n",
    "\n",
    "\n",
    "#### 创建\n",
    "kubectl create -f <文件/路径>\n",
    "\n",
    "\n",
    "#### 删除\n",
    "kubectl delete -f <文件/路径>\n",
    "\n",
    "#### 修改\n",
    "kubectl apply -f <文件/路径>"
   ]
  },
  {
   "cell_type": "code",
   "execution_count": 4,
   "metadata": {},
   "outputs": [
    {
     "name": "stdout",
     "output_type": "stream",
     "text": [
      "Dockerfile    \u001b[31mbuildImage.sh\u001b[m\u001b[m index.py      \u001b[34mk8s\u001b[m\u001b[m\r\n"
     ]
    }
   ],
   "source": [
    "!ls ../labs/lab6"
   ]
  },
  {
   "cell_type": "code",
   "execution_count": 5,
   "metadata": {},
   "outputs": [
    {
     "name": "stdout",
     "output_type": "stream",
     "text": [
      "deployment.yaml ingress.yaml    service.yaml\r\n"
     ]
    }
   ],
   "source": [
    "!ls ../labs/lab6/k8s"
   ]
  },
  {
   "cell_type": "markdown",
   "metadata": {},
   "source": [
    "#### 生成镜像\n",
    "\n",
    "```\n",
    "docker build -t flask-base ../base_flask\n",
    "docker build -t k8s-demo .\n",
    "```"
   ]
  },
  {
   "cell_type": "code",
   "execution_count": 8,
   "metadata": {},
   "outputs": [
    {
     "name": "stdout",
     "output_type": "stream",
     "text": [
      "Sending build context to Docker daemon  3.072kB\n",
      "Step 1/4 : FROM python:3.7.1-alpine\n",
      " ---> aadc3feb2b19\n",
      "Step 2/4 : WORKDIR /tmp\n",
      " ---> Using cache\n",
      " ---> 546e3ab47233\n",
      "Step 3/4 : COPY ./requirements.txt /tmp\n",
      " ---> Using cache\n",
      " ---> 10077cf1394e\n",
      "Step 4/4 : RUN pip install -r requirements.txt\n",
      " ---> Using cache\n",
      " ---> df02fb336c99\n",
      "Successfully built df02fb336c99\n",
      "Successfully tagged flask-base:latest\n",
      "Sending build context to Docker daemon   7.68kB\n",
      "Step 1/5 : FROM flask-base\n",
      " ---> df02fb336c99\n",
      "Step 2/5 : WORKDIR /app\n",
      " ---> Using cache\n",
      " ---> 95371ce84f9c\n",
      "Step 3/5 : COPY . /app\n",
      " ---> ea6db517ec59\n",
      "Step 4/5 : CMD [\"python\", \"index.py\"]\n",
      " ---> Running in c0e21f83dd05\n",
      "Removing intermediate container c0e21f83dd05\n",
      " ---> 55ce761c3bec\n",
      "Step 5/5 : EXPOSE 5000\n",
      " ---> Running in 4f13c559b48a\n",
      "Removing intermediate container 4f13c559b48a\n",
      " ---> 13e42b58d8c8\n",
      "Successfully built 13e42b58d8c8\n",
      "Successfully tagged k8s-demo:latest\n"
     ]
    }
   ],
   "source": [
    "!cd ../labs/lab6 && ./buildImage.sh"
   ]
  },
  {
   "cell_type": "markdown",
   "metadata": {},
   "source": [
    "#### lab 负载均衡\n",
    "\n",
    "```\n",
    "kubectl create -f k8s\n",
    "```"
   ]
  },
  {
   "cell_type": "code",
   "execution_count": 9,
   "metadata": {},
   "outputs": [
    {
     "name": "stdout",
     "output_type": "stream",
     "text": [
      "deployment.apps/demo-app created\n",
      "ingress.extensions/demo-ingress created\n",
      "service/demo-service created\n"
     ]
    }
   ],
   "source": [
    "!cd ../labs/lab6 && kubectl create -f k8s"
   ]
  },
  {
   "cell_type": "markdown",
   "metadata": {},
   "source": [
    "#### 查看pods\n",
    "\n",
    "```\n",
    "kubectl get pods\n",
    "```"
   ]
  },
  {
   "cell_type": "code",
   "execution_count": 10,
   "metadata": {},
   "outputs": [
    {
     "name": "stdout",
     "output_type": "stream",
     "text": [
      "NAME                        READY   STATUS    RESTARTS   AGE\r\n",
      "demo-app-658d547cdd-dj2f9   1/1     Running   0          1m\r\n",
      "demo-app-658d547cdd-fvh8m   1/1     Running   0          1m\r\n",
      "demo-app-658d547cdd-p9t6n   1/1     Running   0          1m\r\n"
     ]
    }
   ],
   "source": [
    "!cd ../labs/lab6 && kubectl get pods"
   ]
  },
  {
   "cell_type": "markdown",
   "metadata": {},
   "source": [
    "#### 验证结果\n",
    "\n",
    "打开浏览器 http://localhost:5000\n",
    "反复刷新页"
   ]
  },
  {
   "cell_type": "markdown",
   "metadata": {},
   "source": [
    "#### 清理\n",
    "\n",
    "```\n",
    "kubectl delete -f k8s\n",
    "```"
   ]
  },
  {
   "cell_type": "code",
   "execution_count": 12,
   "metadata": {},
   "outputs": [
    {
     "name": "stdout",
     "output_type": "stream",
     "text": [
      "deployment.apps \"demo-app\" deleted\n",
      "ingress.extensions \"demo-ingress\" deleted\n",
      "service \"demo-service\" deleted\n"
     ]
    }
   ],
   "source": [
    "!cd ../labs/lab6 && kubectl delete -f k8s"
   ]
  }
 ],
 "metadata": {
  "kernelspec": {
   "display_name": "Python 3",
   "language": "python",
   "name": "python3"
  },
  "language_info": {
   "codemirror_mode": {
    "name": "ipython",
    "version": 3
   },
   "file_extension": ".py",
   "mimetype": "text/x-python",
   "name": "python",
   "nbconvert_exporter": "python",
   "pygments_lexer": "ipython3",
   "version": "3.7.1"
  }
 },
 "nbformat": 4,
 "nbformat_minor": 2
}
