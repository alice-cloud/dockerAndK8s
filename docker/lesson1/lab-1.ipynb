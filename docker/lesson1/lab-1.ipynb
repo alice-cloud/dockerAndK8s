{
 "cells": [
  {
   "cell_type": "markdown",
   "metadata": {},
   "source": [
    "## lab-01 查看镜像\n",
    "\n",
    "\n",
    "```\n",
    "docker images\n",
    "```"
   ]
  },
  {
   "cell_type": "code",
   "execution_count": 2,
   "metadata": {},
   "outputs": [
    {
     "name": "stdout",
     "output_type": "stream",
     "text": [
      "REPOSITORY          TAG                 IMAGE ID            CREATED             SIZE\r\n",
      "consul              latest              10a92470333b        5 days ago          105MB\r\n",
      "nginx               latest              e81eb098537d        8 days ago          109MB\r\n",
      "redis               latest              c188f257942c        8 days ago          94.9MB\r\n",
      "python              3.7.1-alpine        aadc3feb2b19        8 days ago          78.2MB\r\n",
      "postgres            9.6.11-alpine       ca7199e23213        2 weeks ago         38.6MB\r\n",
      "golang              1.11.2-alpine3.8    57915f96905a        3 weeks ago         310MB\r\n",
      "zookeeper           latest              f336949ce7a1        4 weeks ago         148MB\r\n",
      "busybox             latest              59788edf1f3e        7 weeks ago         1.15MB\r\n",
      "alpine              latest              196d12cf6ab1        2 months ago        4.41MB\r\n"
     ]
    }
   ],
   "source": [
    "!docker images"
   ]
  },
  {
   "cell_type": "markdown",
   "metadata": {},
   "source": [
    "## lab-02 查看容器\n",
    "\n",
    "\n",
    "```\n",
    "docker ps\n",
    "docker ps -a\n",
    "docker ps -q\n",
    "docker ps -aq\n",
    "```"
   ]
  },
  {
   "cell_type": "code",
   "execution_count": 4,
   "metadata": {},
   "outputs": [
    {
     "name": "stdout",
     "output_type": "stream",
     "text": [
      "CONTAINER ID        IMAGE               COMMAND             CREATED             STATUS              PORTS               NAMES\r\n"
     ]
    }
   ],
   "source": [
    "!docker ps"
   ]
  },
  {
   "cell_type": "markdown",
   "metadata": {},
   "source": [
    "## lab-03 运行容器 (nginx web服务器)\n",
    "\n",
    "\n",
    "```\n",
    "docker run -it -d -p 8080:80 nginx\n",
    "docker ps\n",
    "```"
   ]
  },
  {
   "cell_type": "code",
   "execution_count": 14,
   "metadata": {},
   "outputs": [
    {
     "name": "stdout",
     "output_type": "stream",
     "text": [
      "d5983ad5382a0c834b30b9dbcea4c4df430f9e437ee265439ef8bcc93aecdbd0\n",
      "CONTAINER ID        IMAGE               COMMAND                  CREATED             STATUS                  PORTS                  NAMES\n",
      "d5983ad5382a        nginx               \"nginx -g 'daemon of…\"   1 second ago        Up Less than a second   0.0.0.0:8080->80/tcp   festive_bassi\n"
     ]
    }
   ],
   "source": [
    "!docker run -it -d -p 8080:80 nginx\n",
    "!docker ps"
   ]
  },
  {
   "cell_type": "markdown",
   "metadata": {},
   "source": [
    "打开浏览器，打开 http://localhost:8080"
   ]
  },
  {
   "cell_type": "markdown",
   "metadata": {},
   "source": [
    "## lab-04 容器生命周期\n",
    "\n",
    "拷贝上一步的容器ID\n",
    "```\n",
    "docker stop <ID>\n",
    "docker ps -a\n",
    "\n",
    "docker start <ID>\n",
    "docker ps -a\n",
    "\n",
    "docker kill <ID>\n",
    "docker ps -a\n",
    "\n",
    "docker rm <ID>\n",
    "docker ps -a\n",
    "```\n"
   ]
  },
  {
   "cell_type": "markdown",
   "metadata": {},
   "source": [
    "## lab-05 容器交互\n",
    "\n",
    "#### 绑定输入输出\n",
    "```\n",
    "docker run -ti python:3.7.1-alpine python3\n",
    "```\n",
    "\n",
    "#### 后台运行\n",
    "\n",
    "```\n",
    "docker run -ti -d python:3.7.1-alpine python3\n",
    "```\n",
    "复制返回的ID\n",
    "可以用（docker ps -a）随时查看每条命令对生命周期的影响\n",
    "\n",
    "```\n",
    "docker logs <ID>\n",
    "\n",
    "docker exec -ti <ID> sh\n",
    "\n",
    "docker attach <ID>\n",
    "```\n",
    "\n"
   ]
  },
  {
   "cell_type": "code",
   "execution_count": null,
   "metadata": {},
   "outputs": [],
   "source": []
  }
 ],
 "metadata": {
  "kernelspec": {
   "display_name": "Python 3",
   "language": "python",
   "name": "python3"
  },
  "language_info": {
   "codemirror_mode": {
    "name": "ipython",
    "version": 3
   },
   "file_extension": ".py",
   "mimetype": "text/x-python",
   "name": "python",
   "nbconvert_exporter": "python",
   "pygments_lexer": "ipython3",
   "version": "3.7.1"
  }
 },
 "nbformat": 4,
 "nbformat_minor": 2
}
