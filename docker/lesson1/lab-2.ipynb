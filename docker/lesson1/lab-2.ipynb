{
 "cells": [
  {
   "cell_type": "markdown",
   "metadata": {},
   "source": [
    "## dockerfile\n",
    "\n",
    "\n",
    "```\n",
    "FROM python:3.7.1-alpine\n",
    "WORKDIR /tmp\n",
    "COPY ./requirements.txt /tmp\n",
    "RUN pip install -r requirements.txt\n",
    "```"
   ]
  },
  {
   "cell_type": "code",
   "execution_count": 8,
   "metadata": {},
   "outputs": [
    {
     "name": "stdout",
     "output_type": "stream",
     "text": [
      "Sending build context to Docker daemon  3.072kB\n",
      "Step 1/4 : FROM python:3.7.1-alpine\n",
      " ---> aadc3feb2b19\n",
      "Step 2/4 : WORKDIR /tmp\n",
      " ---> Using cache\n",
      " ---> 546e3ab47233\n",
      "Step 3/4 : COPY ./requirements.txt /tmp\n",
      " ---> Using cache\n",
      " ---> 41c1d8e295e7\n",
      "Step 4/4 : RUN pip install -r requirements.txt\n",
      " ---> Using cache\n",
      " ---> f40622217ceb\n",
      "Successfully built f40622217ceb\n",
      "Successfully tagged flask-base:latest\n"
     ]
    }
   ],
   "source": [
    "!docker build -t flask-base ../../backend/flaskbase"
   ]
  },
  {
   "cell_type": "markdown",
   "metadata": {},
   "source": [
    "## dockerfile\n",
    "\n",
    "\n",
    "```\n",
    "FROM flask-base\n",
    "WORKDIR /app\n",
    "COPY . /app\n",
    "CMD [\"python\", \"index.py\"]\n",
    "EXPOSE 5000\n",
    "```"
   ]
  },
  {
   "cell_type": "code",
   "execution_count": 9,
   "metadata": {},
   "outputs": [
    {
     "name": "stdout",
     "output_type": "stream",
     "text": [
      "Sending build context to Docker daemon  4.096kB\n",
      "Step 1/5 : FROM flask-base\n",
      " ---> f40622217ceb\n",
      "Step 2/5 : WORKDIR /app\n",
      " ---> Using cache\n",
      " ---> 9934db16005f\n",
      "Step 3/5 : COPY . /app\n",
      " ---> Using cache\n",
      " ---> 429ea8e57e0b\n",
      "Step 4/5 : CMD [\"python\", \"index.py\"]\n",
      " ---> Using cache\n",
      " ---> 18a847bee686\n",
      "Step 5/5 : EXPOSE 5000\n",
      " ---> Using cache\n",
      " ---> fa42063afac0\n",
      "Successfully built fa42063afac0\n",
      "Successfully tagged hello-flask:latest\n"
     ]
    }
   ],
   "source": [
    "!docker build -t hello-flask ../../backend/lab2"
   ]
  },
  {
   "cell_type": "code",
   "execution_count": 10,
   "metadata": {},
   "outputs": [
    {
     "name": "stdout",
     "output_type": "stream",
     "text": [
      " * Serving Flask app \"index\" (lazy loading)\n",
      " * Environment: production\n",
      "\u001b[31m   WARNING: Do not use the development server in a production environment.\u001b[0m\n",
      "\u001b[2m   Use a production WSGI server instead.\u001b[0m\n",
      " * Debug mode: off\n",
      " * Running on http://0.0.0.0:5000/ (Press CTRL+C to quit)\n",
      "172.17.0.1 - - [25/Nov/2018 08:24:46] \"GET / HTTP/1.1\" 200 -\n",
      "172.17.0.1 - - [25/Nov/2018 08:27:25] \"GET / HTTP/1.1\" 200 -\n"
     ]
    }
   ],
   "source": [
    "!docker run -it -p 5000:5000 hello-flask"
   ]
  },
  {
   "cell_type": "markdown",
   "metadata": {},
   "source": [
    "打开浏览器  http://localhost:5000"
   ]
  }
 ],
 "metadata": {
  "kernelspec": {
   "display_name": "Python 3",
   "language": "python",
   "name": "python3"
  },
  "language_info": {
   "codemirror_mode": {
    "name": "ipython",
    "version": 3
   },
   "file_extension": ".py",
   "mimetype": "text/x-python",
   "name": "python",
   "nbconvert_exporter": "python",
   "pygments_lexer": "ipython3",
   "version": "3.7.1"
  }
 },
 "nbformat": 4,
 "nbformat_minor": 2
}
