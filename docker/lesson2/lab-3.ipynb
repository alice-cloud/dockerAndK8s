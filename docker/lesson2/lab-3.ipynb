{
 "cells": [
  {
   "cell_type": "code",
   "execution_count": 6,
   "metadata": {},
   "outputs": [
    {
     "name": "stdout",
     "output_type": "stream",
     "text": [
      "Creating network \"lab3_default\" with the default driver\n",
      "Creating lab3_web_1_3052d4ddcea5 ... \n",
      "Creating lab3_redis_1_fa0395d0d0ff ... \n",
      "\u001b[2BAttaching to lab3_redis_1_935a3c5057c9, lab3_web_1_34d19e81cba3\n",
      "\u001b[36mredis_1_935a3c5057c9 |\u001b[0m 1:C 04 Dec 2018 04:34:18.258 # oO0OoO0OoO0Oo Redis is starting oO0OoO0OoO0Oo\n",
      "\u001b[36mredis_1_935a3c5057c9 |\u001b[0m 1:C 04 Dec 2018 04:34:18.258 # Redis version=5.0.1, bits=64, commit=00000000, modified=0, pid=1, just started\n",
      "\u001b[36mredis_1_935a3c5057c9 |\u001b[0m 1:C 04 Dec 2018 04:34:18.258 # Warning: no config file specified, using the default config. In order to specify a config file use redis-server /path/to/redis.conf\n",
      "\u001b[36mredis_1_935a3c5057c9 |\u001b[0m 1:M 04 Dec 2018 04:34:18.260 * Running mode=standalone, port=6379.\n",
      "\u001b[36mredis_1_935a3c5057c9 |\u001b[0m 1:M 04 Dec 2018 04:34:18.260 # WARNING: The TCP backlog setting of 511 cannot be enforced because /proc/sys/net/core/somaxconn is set to the lower value of 128.\n",
      "\u001b[36mredis_1_935a3c5057c9 |\u001b[0m 1:M 04 Dec 2018 04:34:18.260 # Server initialized\n",
      "\u001b[36mredis_1_935a3c5057c9 |\u001b[0m 1:M 04 Dec 2018 04:34:18.260 # WARNING you have Transparent Huge Pages (THP) support enabled in your kernel. This will create latency and memory usage issues with Redis. To fix this issue run the command 'echo never > /sys/kernel/mm/transparent_hugepage/enabled' as root, and add it to your /etc/rc.local in order to retain the setting after a reboot. Redis must be restarted after THP is disabled.\n",
      "\u001b[36mredis_1_935a3c5057c9 |\u001b[0m 1:M 04 Dec 2018 04:34:18.260 * Ready to accept connections\n",
      "\u001b[33mweb_1_34d19e81cba3 |\u001b[0m  * Serving Flask app \"app\" (lazy loading)\n",
      "\u001b[33mweb_1_34d19e81cba3 |\u001b[0m  * Environment: production\n",
      "\u001b[33mweb_1_34d19e81cba3 |\u001b[0m    WARNING: Do not use the development server in a production environment.\n",
      "\u001b[33mweb_1_34d19e81cba3 |\u001b[0m    Use a production WSGI server instead.\n",
      "\u001b[33mweb_1_34d19e81cba3 |\u001b[0m  * Debug mode: on\n",
      "\u001b[33mweb_1_34d19e81cba3 |\u001b[0m  * Running on http://0.0.0.0:5000/ (Press CTRL+C to quit)\n",
      "\u001b[33mweb_1_34d19e81cba3 |\u001b[0m  * Restarting with stat\n",
      "\u001b[33mweb_1_34d19e81cba3 |\u001b[0m  * Debugger is active!\n",
      "\u001b[33mweb_1_34d19e81cba3 |\u001b[0m  * Debugger PIN: 925-151-450\n",
      "\u001b[36mredis_1_935a3c5057c9 |\u001b[0m 1:signal-handler (1543898148) Received SIGTERM scheduling shutdown...\n",
      "\u001b[36mredis_1_935a3c5057c9 |\u001b[0m 1:M 04 Dec 2018 04:35:48.526 # User requested shutdown...\n",
      "\u001b[36mredis_1_935a3c5057c9 |\u001b[0m 1:M 04 Dec 2018 04:35:48.526 * Saving the final RDB snapshot before exiting.\n",
      "\u001b[36mredis_1_935a3c5057c9 |\u001b[0m 1:M 04 Dec 2018 04:35:48.530 * DB saved on disk\n",
      "\u001b[36mredis_1_935a3c5057c9 |\u001b[0m 1:M 04 Dec 2018 04:35:48.530 # Redis is now ready to exit, bye bye...\n",
      "\u001b[33mlab3_web_1_34d19e81cba3 exited with code 0\n",
      "\u001b[0m\u001b[36mlab3_redis_1_935a3c5057c9 exited with code 0\n",
      "\u001b[0m"
     ]
    }
   ],
   "source": [
    "!docker-compose -f ../../labs/lab3/docker-compose.yml up"
   ]
  },
  {
   "cell_type": "markdown",
   "metadata": {},
   "source": [
    "打开浏览器  http://localhost:5000"
   ]
  }
 ],
 "metadata": {
  "kernelspec": {
   "display_name": "Python 3",
   "language": "python",
   "name": "python3"
  },
  "language_info": {
   "codemirror_mode": {
    "name": "ipython",
    "version": 3
   },
   "file_extension": ".py",
   "mimetype": "text/x-python",
   "name": "python",
   "nbconvert_exporter": "python",
   "pygments_lexer": "ipython3",
   "version": "3.7.1"
  }
 },
 "nbformat": 4,
 "nbformat_minor": 2
}
